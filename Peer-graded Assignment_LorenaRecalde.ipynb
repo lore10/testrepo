{
    "cells": [
        {
            "metadata": {},
            "cell_type": "markdown",
            "source": "<center>\n    <img src=\"https://s3-api.us-geo.objectstorage.softlayer.net/cf-courses-data/CognitiveClass/Logos/organization_logo/organization_logo.png\" width=\"300\" alt=\"cognitiveclass.ai logo\"  />\n</center>"
        },
        {
            "metadata": {
                "collapsed": true
            },
            "cell_type": "markdown",
            "source": "# My Jupyter Notebook on IBM Watson Studio!"
        },
        {
            "metadata": {},
            "cell_type": "markdown",
            "source": "**Lorena Recalde**\\\nI am an Ecuadorian lecturer and researcher trying to keep my knowledge updated."
        },
        {
            "metadata": {},
            "cell_type": "markdown",
            "source": "*I am interested in data science because I have been working with data mining for few years and I am excited about new technologies which can help me to do a better job.*"
        },
        {
            "metadata": {},
            "cell_type": "markdown",
            "source": "### The code bellow shows the result of 5 to the third power"
        },
        {
            "metadata": {},
            "cell_type": "code",
            "source": "5**3",
            "execution_count": 1,
            "outputs": [
                {
                    "output_type": "execute_result",
                    "execution_count": 1,
                    "data": {
                        "text/plain": "125"
                    },
                    "metadata": {}
                }
            ]
        },
        {
            "metadata": {},
            "cell_type": "markdown",
            "source": "> This is the last cell in the notebook. I will list why I love Python.\n\n1. It has an easy syntax\n2. Lots of libraries to work with\n3. Easy to teach others\n\n-----------\n\n[Lorena Recalde](https://scholar.google.com/citations?user=crJbs4MAAAAJ&hl=en)\n"
        }
    ],
    "metadata": {
        "kernelspec": {
            "name": "python3",
            "display_name": "Python 3.9",
            "language": "python"
        },
        "language_info": {
            "name": "python",
            "version": "3.9.13",
            "mimetype": "text/x-python",
            "codemirror_mode": {
                "name": "ipython",
                "version": 3
            },
            "pygments_lexer": "ipython3",
            "nbconvert_exporter": "python",
            "file_extension": ".py"
        }
    },
    "nbformat": 4,
    "nbformat_minor": 1
}